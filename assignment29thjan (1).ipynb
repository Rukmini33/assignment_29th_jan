{
 "cells": [
  {
   "cell_type": "code",
   "execution_count": null,
   "id": "42089b82-976d-4526-8cc4-4b551d497783",
   "metadata": {},
   "outputs": [],
   "source": [
    "#1. Guido van Rossum developed python programmimg language"
   ]
  },
  {
   "cell_type": "code",
   "execution_count": null,
   "id": "0299d009-c678-4e88-ad58-4776f74f084e",
   "metadata": {},
   "outputs": [],
   "source": [
    "#2.Python is an interpreted programming language, which supports object-oriented, structured, and functional programming."
   ]
  },
  {
   "cell_type": "code",
   "execution_count": null,
   "id": "31391d6c-f840-4371-9946-8045f998e43d",
   "metadata": {},
   "outputs": [],
   "source": [
    "#3.Yes, Python is a case-sensitive language, so identifiers are case-sensitive. "
   ]
  },
  {
   "cell_type": "code",
   "execution_count": null,
   "id": "55efdb6f-bae0-4533-9784-aa60fe5a059a",
   "metadata": {},
   "outputs": [],
   "source": [
    "#4.Python file extensions are .py .pyi .pyc .pyd .pyo .pyw .pyz"
   ]
  },
  {
   "cell_type": "code",
   "execution_count": null,
   "id": "cf7e0f39-9887-4bd4-9ad9-66eab2bb4605",
   "metadata": {},
   "outputs": [],
   "source": [
    "#5. Python is an interpreted language."
   ]
  },
  {
   "cell_type": "code",
   "execution_count": null,
   "id": "132f3386-0c61-41c4-8995-f848ac8f0ead",
   "metadata": {},
   "outputs": [],
   "source": [
    "#6.A Python program is constructed from code blocks. A block is a piece of Python program text that is executed as a unit. The following are blocks: a module, a function body, and a class definition."
   ]
  },
  {
   "cell_type": "code",
   "execution_count": null,
   "id": "010ea30c-0a29-4ec2-924d-7827424e5cbc",
   "metadata": {},
   "outputs": [],
   "source": [
    "#7.. We can write a single-line comment by adding a single # character before any statement or line of code."
   ]
  },
  {
   "cell_type": "code",
   "execution_count": null,
   "id": "eeee0031-b2d0-46ad-b529-474c7ad32289",
   "metadata": {},
   "outputs": [],
   "source": [
    "#8. Python supports the creation of anonymous functions (i.e. functions that are not bound to a name) at runtime, using a construct called lambda"
   ]
  },
  {
   "cell_type": "code",
   "execution_count": null,
   "id": "49eb640f-9f61-4fe5-9f66-fb9e51390f47",
   "metadata": {},
   "outputs": [],
   "source": [
    "#9.PIP is a recursive acronym for “Preferred Installer Program” or PIP Installs Packages. "
   ]
  },
  {
   "cell_type": "code",
   "execution_count": null,
   "id": "ca8bd218-ef42-45af-ac19-4d16ea872593",
   "metadata": {},
   "outputs": [],
   "source": [
    "#10.PIP is a recursive acronym for “Preferred Installer Program” or PIP Installs Packages."
   ]
  },
  {
   "cell_type": "code",
   "execution_count": null,
   "id": "413a6b56-dceb-44dd-8def-b35b8bf5ab09",
   "metadata": {},
   "outputs": [],
   "source": [
    "#11.An identifier can have a maximum length of 79 characters in Python."
   ]
  },
  {
   "cell_type": "code",
   "execution_count": null,
   "id": "efe29916-3b50-45aa-b3dd-9191881aaa96",
   "metadata": {},
   "outputs": [],
   "source": [
    "\"\"\"12.benefits\n",
    "Presence of third-party modules.\n",
    "Extensive support libraries(NumPy for numerical calculations, Pandas for data analytics, etc.)\n",
    "Open source and large active community base.\n",
    "Versatile, Easy to read, learn and write.\n",
    "User-friendly data structures.\n",
    "High-level language.\"\"\""
   ]
  },
  {
   "cell_type": "code",
   "execution_count": null,
   "id": "8094c090-c1dc-4e0f-a2e0-2aef1d6d2d77",
   "metadata": {},
   "outputs": [],
   "source": [
    "\"\"\"BENEFITS\n",
    "Presence of third-party modules.\n",
    "Extensive support libraries(NumPy for numerical calculations, Pandas for data analytics, etc.)\n",
    "Open source and large active community base.\n",
    "Versatile, Easy to read, learn and write.\n",
    "User-friendly data structures.\n",
    "High-level language.\"\"\"\n"
   ]
  },
  {
   "cell_type": "code",
   "execution_count": null,
   "id": "1424ec78-9ed3-4099-be19-90dc5b30b957",
   "metadata": {},
   "outputs": [],
   "source": [
    "\"\"\"14.Memory management in Python involves a private heap containing all Python objects and data structures.\n",
    "The management of this private heap is ensured internally by the Python memory manager.\"\"\"\n"
   ]
  },
  {
   "cell_type": "code",
   "execution_count": null,
   "id": "8e1b718e-a1c5-4530-bbed-169fd6c06521",
   "metadata": {},
   "outputs": [],
   "source": [
    "\"\"\"Install python from this link https://www.python.org/downloads/\n",
    "After this, install it on your PC. Look for the location where PYTHON has been installed on your PC using tge following command on your command prompt: cmd python.\n",
    "Then go to advanced system settings and add new variable and name it as PYTHON_NAME and paste the copied path.\n",
    "Then look for the path variable, select it's value and select edit\n",
    "Add a semicolon towards the end of the value if it's not present and then type %PYTHON_HOME%\"\"\""
   ]
  },
  {
   "cell_type": "code",
   "execution_count": null,
   "id": "87134d3b-9f0c-4884-b0ed-a53e60776368",
   "metadata": {},
   "outputs": [],
   "source": [
    "# Indentation is mandatory in python to define the blocks of statements"
   ]
  },
  {
   "cell_type": "code",
   "execution_count": null,
   "id": "780b490f-b35c-4f09-8c7b-cec5de4ddd47",
   "metadata": {},
   "outputs": [],
   "source": []
  },
  {
   "cell_type": "code",
   "execution_count": null,
   "id": "f9cec342-45d2-4286-9389-cdba8b3b9f03",
   "metadata": {},
   "outputs": [],
   "source": []
  },
  {
   "cell_type": "code",
   "execution_count": null,
   "id": "f487886c-c73b-44e0-a774-33999f8bfad6",
   "metadata": {},
   "outputs": [],
   "source": []
  },
  {
   "cell_type": "code",
   "execution_count": null,
   "id": "f383698f-5444-4ab8-8238-46fc9b6d9236",
   "metadata": {},
   "outputs": [],
   "source": []
  }
 ],
 "metadata": {
  "kernelspec": {
   "display_name": "Python 3 (ipykernel)",
   "language": "python",
   "name": "python3"
  },
  "language_info": {
   "codemirror_mode": {
    "name": "ipython",
    "version": 3
   },
   "file_extension": ".py",
   "mimetype": "text/x-python",
   "name": "python",
   "nbconvert_exporter": "python",
   "pygments_lexer": "ipython3",
   "version": "3.10.8"
  }
 },
 "nbformat": 4,
 "nbformat_minor": 5
}
